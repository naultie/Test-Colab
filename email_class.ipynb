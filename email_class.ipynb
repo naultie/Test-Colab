{
  "nbformat": 4,
  "nbformat_minor": 0,
  "metadata": {
    "colab": {
      "name": "Intro.ipynb",
      "provenance": [],
      "collapsed_sections": [],
      "authorship_tag": "ABX9TyN6TlCUc2VcW1V4nVX255/2",
      "include_colab_link": true
    },
    "kernelspec": {
      "name": "python3",
      "display_name": "Python 3"
    },
    "language_info": {
      "name": "python"
    }
  },
  "cells": [
    {
      "cell_type": "markdown",
      "metadata": {
        "id": "view-in-github",
        "colab_type": "text"
      },
      "source": [
        "<a href=\"https://colab.research.google.com/github/naultie/Test-Colab/blob/main/email_class.ipynb\" target=\"_parent\"><img src=\"https://colab.research.google.com/assets/colab-badge.svg\" alt=\"Open In Colab\"/></a>"
      ]
    },
    {
      "cell_type": "code",
      "execution_count": 14,
      "metadata": {
        "colab": {
          "base_uri": "https://localhost:8080/"
        },
        "id": "3rQNCmbg8E7j",
        "outputId": "2d779874-6bc3-4120-cb50-3b0d96cfe46d"
      },
      "outputs": [
        {
          "output_type": "stream",
          "name": "stdout",
          "text": [
            "From: mgood@goddess.com \n",
            "To: amamkele.qamata@bloodandwater.org \n",
            "Subject: 2022 Dispora Film Festival \n",
            "\n",
            "Body: \n",
            "\n",
            "Hi Amamkele, \n",
            "\n",
            "I am looking forward to seeing you in South Africa at this years Dispora Film Festival. \n",
            "\n",
            "I will let you know when I will be arriving. See you soon. \n",
            "\n",
            "\n",
            "Sincerely, \n",
            "\n",
            "Meagan 😘 \n",
            "\n"
          ]
        }
      ],
      "source": [
        "\n",
        "class Email:\n",
        "  def __init__(self, sender, recipient, subject, body):\n",
        "    self.sender = sender\n",
        "    self.recipient = recipient\n",
        "    self.subject = subject\n",
        "    self.body = body\n",
        "\n",
        "  def send(self, sender, recipient):\n",
        "    print(f\"From: {sender} \\nTo: {recipient} \\nSubject: {self.subject} \\n\\nBody: \\n\\n{self.body} \\n\\n\\nSincerely, \\n\\nMeagan 😘 \\n\")\n",
        "\n",
        "def main():\n",
        "\n",
        "  email_1 = Email(\"\", \"\", \"2022 Dispora Film Festival\", \"Hi Amamkele, \\n\\nI am looking forward to seeing you in South Africa at this years Dispora Film Festival. \\n\\nI will let you know when I will be arriving. See you soon.\")\n",
        "\n",
        "  email_1.send(\"mgood@goddess.com\", \"amamkele.qamata@bloodandwater.org\")\n",
        "\n",
        "\n",
        "if __name__ == '__main__':\n",
        "  main()\n"
      ]
    }
  ]
}