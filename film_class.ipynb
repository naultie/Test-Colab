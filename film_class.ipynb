{
  "nbformat": 4,
  "nbformat_minor": 0,
  "metadata": {
    "colab": {
      "name": "Copy of Intro.ipynb",
      "provenance": [],
      "collapsed_sections": [],
      "authorship_tag": "ABX9TyNKDP8A2qLNvsApriqJHZBx",
      "include_colab_link": true
    },
    "kernelspec": {
      "name": "python3",
      "display_name": "Python 3"
    },
    "language_info": {
      "name": "python"
    }
  },
  "cells": [
    {
      "cell_type": "markdown",
      "metadata": {
        "id": "view-in-github",
        "colab_type": "text"
      },
      "source": [
        "<a href=\"https://colab.research.google.com/github/naultie/Test-Colab/blob/main/film_class.ipynb\" target=\"_parent\"><img src=\"https://colab.research.google.com/assets/colab-badge.svg\" alt=\"Open In Colab\"/></a>"
      ]
    },
    {
      "cell_type": "code",
      "execution_count": null,
      "metadata": {
        "id": "3rQNCmbg8E7j"
      },
      "outputs": [],
      "source": [
        "\n",
        "class Email:\n",
        "  def __init__(self, sender, recipient, subject, body):\n",
        "    self.sender = sender\n",
        "    self.recipient = recipient\n",
        "    self.subject = subject\n",
        "    self.body = body\n",
        "\n",
        "  def send(self, sender, recipient):\n",
        "    print(f\"From: {sender} \\nTo: {recipient} \\nSubject: {self.subject} \\n\\nBody: \\n\\n{self.body} \\n\\n\\nSincerely, \\n\\nMeagan 😘 \\n\")\n",
        "\n",
        "def main():\n",
        "\n",
        "  email_1 = Email(\"\", \"\", \"2022 Dispora Film Festival\", \"Hi Amamkele, \\n\\nI am looking forward to seeing you in South Africa at this years Dispora Film Festival. \\n\\nI will let you know when I will be arriving. See you soon.\")\n",
        "\n",
        "  email_1.send(\"mgood@goddess.com\", \"amamkele.qamata@bloodandwater.org\")\n",
        "\n",
        "\n",
        "if __name__ == '__main__':\n",
        "  main()\n"
      ]
    },
    {
      "cell_type": "code",
      "source": [
        "class Film:\n",
        "  def __init__(self, title, star):\n",
        "    self.title = title\n",
        "    self.star = star\n",
        "\n",
        "  def cast(self, star):\n",
        "    print(f\"Title: {self.title} \\nLeading Actor: {star} \\n\\n\")\n",
        "\n",
        "def main():\n",
        "\n",
        "  film_1 = Film(\"The Harder They Fall\", \"\")\n",
        "\n",
        "  film_1.cast(\"Zazie Beetz\")\n",
        "\n",
        "if __name__ == \"__main__\":\n",
        "  main()\n"
      ],
      "metadata": {
        "id": "SozjzD0ALtCR"
      },
      "execution_count": null,
      "outputs": []
    }
  ]
}